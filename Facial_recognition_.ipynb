{
  "nbformat": 4,
  "nbformat_minor": 0,
  "metadata": {
    "colab": {
      "name": "Facial recognition .ipynb",
      "provenance": [],
      "collapsed_sections": [],
      "authorship_tag": "ABX9TyMU/VLbqdfTOTFOL0yz0XEX",
      "include_colab_link": true
    },
    "kernelspec": {
      "name": "python3",
      "display_name": "Python 3"
    },
    "accelerator": "GPU"
  },
  "cells": [
    {
      "cell_type": "markdown",
      "metadata": {
        "id": "view-in-github",
        "colab_type": "text"
      },
      "source": [
        "<a href=\"https://colab.research.google.com/github/sanchitasatam/CS612/blob/master/Facial_recognition_.ipynb\" target=\"_parent\"><img src=\"https://colab.research.google.com/assets/colab-badge.svg\" alt=\"Open In Colab\"/></a>"
      ]
    },
    {
      "cell_type": "markdown",
      "metadata": {
        "id": "XYkv-H4XBHOP"
      },
      "source": [
        ""
      ]
    },
    {
      "cell_type": "code",
      "metadata": {
        "colab": {
          "base_uri": "https://localhost:8080/"
        },
        "id": "9Bv2Xfap-mnh",
        "outputId": "b2d170e9-4cd4-4440-cfb6-8caee106ae20"
      },
      "source": [
        "!pip install cmake"
      ],
      "execution_count": 1,
      "outputs": [
        {
          "output_type": "stream",
          "text": [
            "Requirement already satisfied: cmake in /usr/local/lib/python3.7/dist-packages (3.12.0)\n"
          ],
          "name": "stdout"
        }
      ]
    },
    {
      "cell_type": "code",
      "metadata": {
        "colab": {
          "base_uri": "https://localhost:8080/"
        },
        "id": "-r0skLwE-3y-",
        "outputId": "bdcb622a-4922-43ee-fdfd-b6d685ecc933"
      },
      "source": [
        "!pip install dlib"
      ],
      "execution_count": 2,
      "outputs": [
        {
          "output_type": "stream",
          "text": [
            "Requirement already satisfied: dlib in /usr/local/lib/python3.7/dist-packages (19.18.0)\n"
          ],
          "name": "stdout"
        }
      ]
    },
    {
      "cell_type": "code",
      "metadata": {
        "colab": {
          "base_uri": "https://localhost:8080/"
        },
        "id": "0tff81W_-7vV",
        "outputId": "ddd38239-7516-46ee-bdfb-d52b5027f762"
      },
      "source": [
        "!pip install face_recognition"
      ],
      "execution_count": 3,
      "outputs": [
        {
          "output_type": "stream",
          "text": [
            "Collecting face_recognition\n",
            "  Downloading face_recognition-1.3.0-py2.py3-none-any.whl (15 kB)\n",
            "Requirement already satisfied: Click>=6.0 in /usr/local/lib/python3.7/dist-packages (from face_recognition) (7.1.2)\n",
            "Collecting face-recognition-models>=0.3.0\n",
            "  Downloading face_recognition_models-0.3.0.tar.gz (100.1 MB)\n",
            "\u001b[K     |████████████████████████████████| 100.1 MB 7.4 kB/s \n",
            "\u001b[?25hRequirement already satisfied: dlib>=19.7 in /usr/local/lib/python3.7/dist-packages (from face_recognition) (19.18.0)\n",
            "Requirement already satisfied: Pillow in /usr/local/lib/python3.7/dist-packages (from face_recognition) (7.1.2)\n",
            "Requirement already satisfied: numpy in /usr/local/lib/python3.7/dist-packages (from face_recognition) (1.19.5)\n",
            "Building wheels for collected packages: face-recognition-models\n",
            "  Building wheel for face-recognition-models (setup.py) ... \u001b[?25l\u001b[?25hdone\n",
            "  Created wheel for face-recognition-models: filename=face_recognition_models-0.3.0-py2.py3-none-any.whl size=100566184 sha256=649d34df9e129bc260a5e87ab48b96a2cca8b231b8a25217eaa64e5fec067390\n",
            "  Stored in directory: /root/.cache/pip/wheels/d6/81/3c/884bcd5e1c120ff548d57c2ecc9ebf3281c9a6f7c0e7e7947a\n",
            "Successfully built face-recognition-models\n",
            "Installing collected packages: face-recognition-models, face-recognition\n",
            "Successfully installed face-recognition-1.3.0 face-recognition-models-0.3.0\n"
          ],
          "name": "stdout"
        }
      ]
    },
    {
      "cell_type": "code",
      "metadata": {
        "colab": {
          "base_uri": "https://localhost:8080/"
        },
        "id": "L6YJuyt1_O3M",
        "outputId": "00d4ac1b-1c5c-4b49-f8c9-818fd752a80a"
      },
      "source": [
        "!pip install opencv-python numpy"
      ],
      "execution_count": 4,
      "outputs": [
        {
          "output_type": "stream",
          "text": [
            "Requirement already satisfied: opencv-python in /usr/local/lib/python3.7/dist-packages (4.1.2.30)\n",
            "Requirement already satisfied: numpy in /usr/local/lib/python3.7/dist-packages (1.19.5)\n"
          ],
          "name": "stdout"
        }
      ]
    },
    {
      "cell_type": "code",
      "metadata": {
        "id": "yT3ltyKR_dIj"
      },
      "source": [
        "import cv2\n",
        "import face_recognition\n",
        "import numpy as np\n",
        "import os "
      ],
      "execution_count": 5,
      "outputs": []
    },
    {
      "cell_type": "code",
      "metadata": {
        "id": "Ka9NTFIoVPX8"
      },
      "source": [
        "path = \"/content/sample_data/FACES\""
      ],
      "execution_count": 9,
      "outputs": []
    },
    {
      "cell_type": "code",
      "metadata": {
        "id": "uHHBoAyQVTts"
      },
      "source": [
        "images = []\n",
        "myList = []\n",
        "list = os.listdir(path)"
      ],
      "execution_count": 10,
      "outputs": []
    },
    {
      "cell_type": "code",
      "metadata": {
        "colab": {
          "base_uri": "https://localhost:8080/"
        },
        "id": "aGxpGWvcVsce",
        "outputId": "d88f4764-77e7-4e1c-ff1e-e5a838b94031"
      },
      "source": [
        "print(list)"
      ],
      "execution_count": 11,
      "outputs": [
        {
          "output_type": "stream",
          "text": [
            "['.ipynb_checkpoints', 'MINDY_KALING.jpg', 'BEN_AFFLECK.jpg', 'JOHN_ELTON.jpg', 'JERRY_SEINFELD.jpg', 'MADONNA.jpg']\n"
          ],
          "name": "stdout"
        }
      ]
    },
    {
      "cell_type": "code",
      "metadata": {
        "colab": {
          "base_uri": "https://localhost:8080/"
        },
        "id": "qflcR7onV7-3",
        "outputId": "7601ddd1-4af0-44d8-e1ab-db83114e6293"
      },
      "source": [
        "for cls in list:\n",
        "  curImage = cv2.imread(f\"{path}/{cls}\")\n",
        "  images.append(curImage)\n",
        "  myList.append(os.path.splitext(cls)[0])\n",
        "print(myList)"
      ],
      "execution_count": 24,
      "outputs": [
        {
          "output_type": "stream",
          "text": [
            "['.ipynb_checkpoints', 'MINDY_KALING', 'BEN_AFFLECK', 'JOHN_ELTON', 'JERRY_SEINFELD', 'MADONNA', '.ipynb_checkpoints', 'MINDY_KALING', 'BEN_AFFLECK', 'JOHN_ELTON', 'JERRY_SEINFELD', 'MADONNA']\n"
          ],
          "name": "stdout"
        }
      ]
    },
    {
      "cell_type": "code",
      "metadata": {
        "id": "1MsdS0GkdDWM"
      },
      "source": [
        "def findEncodes(images):\n",
        "  encodelist = []\n",
        "  for img in images:\n",
        "    img = cv2.cvtColor(img,cv2.COLOR_BGR2RGB)\n",
        "    img = cv2.imread(path)\n",
        "    encode = face_recognition.face_encoding(img)[0]\n",
        "    encodelist.append(encode)\n",
        "  return encodelist  "
      ],
      "execution_count": 29,
      "outputs": []
    },
    {
      "cell_type": "code",
      "metadata": {
        "id": "PHGGiueTkwta"
      },
      "source": [
        "def markAttendance(name)"
      ],
      "execution_count": null,
      "outputs": []
    },
    {
      "cell_type": "code",
      "metadata": {
        "colab": {
          "base_uri": "https://localhost:8080/"
        },
        "id": "rCp8EcP9NixH",
        "outputId": "aa57d017-80f1-40c3-fa63-f6c5ce454955"
      },
      "source": [
        "print(images)"
      ],
      "execution_count": 31,
      "outputs": [
        {
          "output_type": "stream",
          "text": [
            "[None, array([[[244, 238, 233],\n",
            "        [244, 238, 233],\n",
            "        [243, 237, 232],\n",
            "        ...,\n",
            "        [241, 235, 230],\n",
            "        [241, 235, 230],\n",
            "        [242, 236, 231]],\n",
            "\n",
            "       [[244, 238, 233],\n",
            "        [244, 238, 233],\n",
            "        [243, 237, 232],\n",
            "        ...,\n",
            "        [241, 235, 230],\n",
            "        [241, 235, 230],\n",
            "        [242, 236, 231]],\n",
            "\n",
            "       [[244, 238, 233],\n",
            "        [244, 238, 233],\n",
            "        [243, 237, 232],\n",
            "        ...,\n",
            "        [241, 235, 230],\n",
            "        [242, 236, 231],\n",
            "        [242, 236, 231]],\n",
            "\n",
            "       ...,\n",
            "\n",
            "       [[ 28,  39,  53],\n",
            "        [ 10,  15,  24],\n",
            "        [ 10,   9,  11],\n",
            "        ...,\n",
            "        [ 42,  41,  43],\n",
            "        [144, 139, 140],\n",
            "        [213, 202, 204]],\n",
            "\n",
            "       [[ 27,  37,  54],\n",
            "        [  9,  15,  26],\n",
            "        [  9,  11,  12],\n",
            "        ...,\n",
            "        [ 43,  42,  44],\n",
            "        [149, 144, 145],\n",
            "        [215, 204, 206]],\n",
            "\n",
            "       [[ 24,  37,  53],\n",
            "        [ 10,  16,  27],\n",
            "        [ 10,  12,  13],\n",
            "        ...,\n",
            "        [ 43,  42,  44],\n",
            "        [152, 147, 148],\n",
            "        [217, 206, 208]]], dtype=uint8), array([[[ 90, 143, 200],\n",
            "        [ 84, 139, 196],\n",
            "        [ 80, 137, 193],\n",
            "        ...,\n",
            "        [177, 189, 217],\n",
            "        [183, 195, 223],\n",
            "        [183, 195, 223]],\n",
            "\n",
            "       [[ 92, 142, 200],\n",
            "        [ 85, 138, 195],\n",
            "        [ 79, 134, 191],\n",
            "        ...,\n",
            "        [180, 192, 220],\n",
            "        [185, 197, 225],\n",
            "        [186, 198, 226]],\n",
            "\n",
            "       [[ 91, 141, 199],\n",
            "        [ 84, 137, 194],\n",
            "        [ 77, 133, 188],\n",
            "        ...,\n",
            "        [183, 195, 223],\n",
            "        [189, 201, 229],\n",
            "        [189, 201, 229]],\n",
            "\n",
            "       ...,\n",
            "\n",
            "       [[ 13,  16,  20],\n",
            "        [ 12,  15,  19],\n",
            "        [ 11,  16,  17],\n",
            "        ...,\n",
            "        [ 11,  15,  16],\n",
            "        [ 11,  15,  16],\n",
            "        [ 11,  15,  16]],\n",
            "\n",
            "       [[ 11,  19,  19],\n",
            "        [ 13,  18,  19],\n",
            "        [  8,  13,  14],\n",
            "        ...,\n",
            "        [ 11,  15,  16],\n",
            "        [ 11,  15,  16],\n",
            "        [ 11,  15,  16]],\n",
            "\n",
            "       [[ 12,  20,  20],\n",
            "        [ 14,  19,  20],\n",
            "        [ 10,  15,  16],\n",
            "        ...,\n",
            "        [ 11,  15,  16],\n",
            "        [ 11,  15,  16],\n",
            "        [ 11,  15,  16]]], dtype=uint8), array([[[182, 209, 230],\n",
            "        [205, 227, 245],\n",
            "        [206, 223, 236],\n",
            "        ...,\n",
            "        [225, 234, 244],\n",
            "        [225, 234, 244],\n",
            "        [225, 234, 244]],\n",
            "\n",
            "       [[131, 154, 180],\n",
            "        [195, 216, 238],\n",
            "        [212, 228, 244],\n",
            "        ...,\n",
            "        [225, 234, 244],\n",
            "        [225, 234, 244],\n",
            "        [225, 234, 244]],\n",
            "\n",
            "       [[ 53,  71, 100],\n",
            "        [153, 170, 196],\n",
            "        [206, 221, 240],\n",
            "        ...,\n",
            "        [225, 234, 244],\n",
            "        [225, 234, 244],\n",
            "        [225, 234, 244]],\n",
            "\n",
            "       ...,\n",
            "\n",
            "       [[ 15,  18,  26],\n",
            "        [ 15,  18,  26],\n",
            "        [ 16,  19,  27],\n",
            "        ...,\n",
            "        [ 15,  17,  25],\n",
            "        [ 15,  17,  25],\n",
            "        [ 14,  16,  24]],\n",
            "\n",
            "       [[ 15,  18,  26],\n",
            "        [ 15,  18,  26],\n",
            "        [ 15,  18,  26],\n",
            "        ...,\n",
            "        [ 16,  18,  26],\n",
            "        [ 14,  16,  24],\n",
            "        [ 14,  16,  24]],\n",
            "\n",
            "       [[ 14,  17,  25],\n",
            "        [ 14,  17,  25],\n",
            "        [ 14,  17,  25],\n",
            "        ...,\n",
            "        [ 16,  18,  26],\n",
            "        [ 14,  16,  24],\n",
            "        [ 13,  15,  23]]], dtype=uint8), array([[[  2,   2,   2],\n",
            "        [  2,   2,   2],\n",
            "        [  2,   2,   2],\n",
            "        ...,\n",
            "        [ 24,  55,  70],\n",
            "        [ 22,  53,  68],\n",
            "        [ 19,  50,  65]],\n",
            "\n",
            "       [[  1,   1,   1],\n",
            "        [  1,   1,   1],\n",
            "        [  1,   1,   1],\n",
            "        ...,\n",
            "        [ 24,  55,  70],\n",
            "        [ 24,  55,  70],\n",
            "        [ 22,  53,  68]],\n",
            "\n",
            "       [[  0,   0,   0],\n",
            "        [  0,   0,   0],\n",
            "        [  0,   0,   0],\n",
            "        ...,\n",
            "        [ 24,  55,  70],\n",
            "        [ 23,  54,  69],\n",
            "        [ 22,  53,  68]],\n",
            "\n",
            "       ...,\n",
            "\n",
            "       [[118, 155, 211],\n",
            "        [ 95, 132, 184],\n",
            "        [ 73, 103, 152],\n",
            "        ...,\n",
            "        [ 44,  49,  48],\n",
            "        [ 55,  60,  59],\n",
            "        [ 42,  47,  46]],\n",
            "\n",
            "       [[125, 163, 221],\n",
            "        [ 99, 136, 192],\n",
            "        [ 83, 115, 164],\n",
            "        ...,\n",
            "        [ 29,  34,  33],\n",
            "        [ 44,  49,  48],\n",
            "        [ 36,  41,  40]],\n",
            "\n",
            "       [[121, 161, 220],\n",
            "        [104, 141, 197],\n",
            "        [ 96, 129, 179],\n",
            "        ...,\n",
            "        [ 21,  26,  25],\n",
            "        [ 30,  35,  34],\n",
            "        [ 23,  28,  27]]], dtype=uint8), array([[[134, 137, 135],\n",
            "        [137, 140, 138],\n",
            "        [136, 138, 138],\n",
            "        ...,\n",
            "        [240, 240, 240],\n",
            "        [240, 240, 240],\n",
            "        [240, 240, 240]],\n",
            "\n",
            "       [[140, 143, 141],\n",
            "        [126, 129, 127],\n",
            "        [143, 145, 145],\n",
            "        ...,\n",
            "        [240, 240, 240],\n",
            "        [240, 240, 240],\n",
            "        [240, 240, 240]],\n",
            "\n",
            "       [[136, 138, 138],\n",
            "        [132, 134, 134],\n",
            "        [144, 146, 146],\n",
            "        ...,\n",
            "        [240, 240, 240],\n",
            "        [240, 240, 240],\n",
            "        [240, 240, 240]],\n",
            "\n",
            "       ...,\n",
            "\n",
            "       [[149, 185, 223],\n",
            "        [154, 190, 228],\n",
            "        [163, 197, 233],\n",
            "        ...,\n",
            "        [240, 240, 240],\n",
            "        [240, 240, 240],\n",
            "        [240, 240, 240]],\n",
            "\n",
            "       [[149, 185, 223],\n",
            "        [155, 191, 229],\n",
            "        [164, 198, 234],\n",
            "        ...,\n",
            "        [240, 240, 240],\n",
            "        [240, 240, 240],\n",
            "        [240, 240, 240]],\n",
            "\n",
            "       [[147, 183, 221],\n",
            "        [154, 190, 228],\n",
            "        [163, 197, 233],\n",
            "        ...,\n",
            "        [240, 240, 240],\n",
            "        [240, 240, 240],\n",
            "        [240, 240, 240]]], dtype=uint8), None, array([[[244, 238, 233],\n",
            "        [244, 238, 233],\n",
            "        [243, 237, 232],\n",
            "        ...,\n",
            "        [241, 235, 230],\n",
            "        [241, 235, 230],\n",
            "        [242, 236, 231]],\n",
            "\n",
            "       [[244, 238, 233],\n",
            "        [244, 238, 233],\n",
            "        [243, 237, 232],\n",
            "        ...,\n",
            "        [241, 235, 230],\n",
            "        [241, 235, 230],\n",
            "        [242, 236, 231]],\n",
            "\n",
            "       [[244, 238, 233],\n",
            "        [244, 238, 233],\n",
            "        [243, 237, 232],\n",
            "        ...,\n",
            "        [241, 235, 230],\n",
            "        [242, 236, 231],\n",
            "        [242, 236, 231]],\n",
            "\n",
            "       ...,\n",
            "\n",
            "       [[ 28,  39,  53],\n",
            "        [ 10,  15,  24],\n",
            "        [ 10,   9,  11],\n",
            "        ...,\n",
            "        [ 42,  41,  43],\n",
            "        [144, 139, 140],\n",
            "        [213, 202, 204]],\n",
            "\n",
            "       [[ 27,  37,  54],\n",
            "        [  9,  15,  26],\n",
            "        [  9,  11,  12],\n",
            "        ...,\n",
            "        [ 43,  42,  44],\n",
            "        [149, 144, 145],\n",
            "        [215, 204, 206]],\n",
            "\n",
            "       [[ 24,  37,  53],\n",
            "        [ 10,  16,  27],\n",
            "        [ 10,  12,  13],\n",
            "        ...,\n",
            "        [ 43,  42,  44],\n",
            "        [152, 147, 148],\n",
            "        [217, 206, 208]]], dtype=uint8), array([[[ 90, 143, 200],\n",
            "        [ 84, 139, 196],\n",
            "        [ 80, 137, 193],\n",
            "        ...,\n",
            "        [177, 189, 217],\n",
            "        [183, 195, 223],\n",
            "        [183, 195, 223]],\n",
            "\n",
            "       [[ 92, 142, 200],\n",
            "        [ 85, 138, 195],\n",
            "        [ 79, 134, 191],\n",
            "        ...,\n",
            "        [180, 192, 220],\n",
            "        [185, 197, 225],\n",
            "        [186, 198, 226]],\n",
            "\n",
            "       [[ 91, 141, 199],\n",
            "        [ 84, 137, 194],\n",
            "        [ 77, 133, 188],\n",
            "        ...,\n",
            "        [183, 195, 223],\n",
            "        [189, 201, 229],\n",
            "        [189, 201, 229]],\n",
            "\n",
            "       ...,\n",
            "\n",
            "       [[ 13,  16,  20],\n",
            "        [ 12,  15,  19],\n",
            "        [ 11,  16,  17],\n",
            "        ...,\n",
            "        [ 11,  15,  16],\n",
            "        [ 11,  15,  16],\n",
            "        [ 11,  15,  16]],\n",
            "\n",
            "       [[ 11,  19,  19],\n",
            "        [ 13,  18,  19],\n",
            "        [  8,  13,  14],\n",
            "        ...,\n",
            "        [ 11,  15,  16],\n",
            "        [ 11,  15,  16],\n",
            "        [ 11,  15,  16]],\n",
            "\n",
            "       [[ 12,  20,  20],\n",
            "        [ 14,  19,  20],\n",
            "        [ 10,  15,  16],\n",
            "        ...,\n",
            "        [ 11,  15,  16],\n",
            "        [ 11,  15,  16],\n",
            "        [ 11,  15,  16]]], dtype=uint8), array([[[182, 209, 230],\n",
            "        [205, 227, 245],\n",
            "        [206, 223, 236],\n",
            "        ...,\n",
            "        [225, 234, 244],\n",
            "        [225, 234, 244],\n",
            "        [225, 234, 244]],\n",
            "\n",
            "       [[131, 154, 180],\n",
            "        [195, 216, 238],\n",
            "        [212, 228, 244],\n",
            "        ...,\n",
            "        [225, 234, 244],\n",
            "        [225, 234, 244],\n",
            "        [225, 234, 244]],\n",
            "\n",
            "       [[ 53,  71, 100],\n",
            "        [153, 170, 196],\n",
            "        [206, 221, 240],\n",
            "        ...,\n",
            "        [225, 234, 244],\n",
            "        [225, 234, 244],\n",
            "        [225, 234, 244]],\n",
            "\n",
            "       ...,\n",
            "\n",
            "       [[ 15,  18,  26],\n",
            "        [ 15,  18,  26],\n",
            "        [ 16,  19,  27],\n",
            "        ...,\n",
            "        [ 15,  17,  25],\n",
            "        [ 15,  17,  25],\n",
            "        [ 14,  16,  24]],\n",
            "\n",
            "       [[ 15,  18,  26],\n",
            "        [ 15,  18,  26],\n",
            "        [ 15,  18,  26],\n",
            "        ...,\n",
            "        [ 16,  18,  26],\n",
            "        [ 14,  16,  24],\n",
            "        [ 14,  16,  24]],\n",
            "\n",
            "       [[ 14,  17,  25],\n",
            "        [ 14,  17,  25],\n",
            "        [ 14,  17,  25],\n",
            "        ...,\n",
            "        [ 16,  18,  26],\n",
            "        [ 14,  16,  24],\n",
            "        [ 13,  15,  23]]], dtype=uint8), array([[[  2,   2,   2],\n",
            "        [  2,   2,   2],\n",
            "        [  2,   2,   2],\n",
            "        ...,\n",
            "        [ 24,  55,  70],\n",
            "        [ 22,  53,  68],\n",
            "        [ 19,  50,  65]],\n",
            "\n",
            "       [[  1,   1,   1],\n",
            "        [  1,   1,   1],\n",
            "        [  1,   1,   1],\n",
            "        ...,\n",
            "        [ 24,  55,  70],\n",
            "        [ 24,  55,  70],\n",
            "        [ 22,  53,  68]],\n",
            "\n",
            "       [[  0,   0,   0],\n",
            "        [  0,   0,   0],\n",
            "        [  0,   0,   0],\n",
            "        ...,\n",
            "        [ 24,  55,  70],\n",
            "        [ 23,  54,  69],\n",
            "        [ 22,  53,  68]],\n",
            "\n",
            "       ...,\n",
            "\n",
            "       [[118, 155, 211],\n",
            "        [ 95, 132, 184],\n",
            "        [ 73, 103, 152],\n",
            "        ...,\n",
            "        [ 44,  49,  48],\n",
            "        [ 55,  60,  59],\n",
            "        [ 42,  47,  46]],\n",
            "\n",
            "       [[125, 163, 221],\n",
            "        [ 99, 136, 192],\n",
            "        [ 83, 115, 164],\n",
            "        ...,\n",
            "        [ 29,  34,  33],\n",
            "        [ 44,  49,  48],\n",
            "        [ 36,  41,  40]],\n",
            "\n",
            "       [[121, 161, 220],\n",
            "        [104, 141, 197],\n",
            "        [ 96, 129, 179],\n",
            "        ...,\n",
            "        [ 21,  26,  25],\n",
            "        [ 30,  35,  34],\n",
            "        [ 23,  28,  27]]], dtype=uint8), array([[[134, 137, 135],\n",
            "        [137, 140, 138],\n",
            "        [136, 138, 138],\n",
            "        ...,\n",
            "        [240, 240, 240],\n",
            "        [240, 240, 240],\n",
            "        [240, 240, 240]],\n",
            "\n",
            "       [[140, 143, 141],\n",
            "        [126, 129, 127],\n",
            "        [143, 145, 145],\n",
            "        ...,\n",
            "        [240, 240, 240],\n",
            "        [240, 240, 240],\n",
            "        [240, 240, 240]],\n",
            "\n",
            "       [[136, 138, 138],\n",
            "        [132, 134, 134],\n",
            "        [144, 146, 146],\n",
            "        ...,\n",
            "        [240, 240, 240],\n",
            "        [240, 240, 240],\n",
            "        [240, 240, 240]],\n",
            "\n",
            "       ...,\n",
            "\n",
            "       [[149, 185, 223],\n",
            "        [154, 190, 228],\n",
            "        [163, 197, 233],\n",
            "        ...,\n",
            "        [240, 240, 240],\n",
            "        [240, 240, 240],\n",
            "        [240, 240, 240]],\n",
            "\n",
            "       [[149, 185, 223],\n",
            "        [155, 191, 229],\n",
            "        [164, 198, 234],\n",
            "        ...,\n",
            "        [240, 240, 240],\n",
            "        [240, 240, 240],\n",
            "        [240, 240, 240]],\n",
            "\n",
            "       [[147, 183, 221],\n",
            "        [154, 190, 228],\n",
            "        [163, 197, 233],\n",
            "        ...,\n",
            "        [240, 240, 240],\n",
            "        [240, 240, 240],\n",
            "        [240, 240, 240]]], dtype=uint8)]\n"
          ],
          "name": "stdout"
        }
      ]
    },
    {
      "cell_type": "code",
      "metadata": {
        "colab": {
          "base_uri": "https://localhost:8080/",
          "height": 317
        },
        "id": "sqXsSyY1LP5O",
        "outputId": "bf4b38fd-e7b3-48e6-ead6-e77c8dd80e76"
      },
      "source": [
        "encodeListKnown = findEncodes(images)\n",
        "print(\"Encoding Completes\")"
      ],
      "execution_count": 33,
      "outputs": [
        {
          "output_type": "error",
          "ename": "error",
          "evalue": "ignored",
          "traceback": [
            "\u001b[0;31m---------------------------------------------------------------------------\u001b[0m",
            "\u001b[0;31merror\u001b[0m                                     Traceback (most recent call last)",
            "\u001b[0;32m<ipython-input-33-971149da0208>\u001b[0m in \u001b[0;36m<module>\u001b[0;34m()\u001b[0m\n\u001b[0;32m----> 1\u001b[0;31m \u001b[0mencodeListKnown\u001b[0m \u001b[0;34m=\u001b[0m \u001b[0mfindEncodes\u001b[0m\u001b[0;34m(\u001b[0m\u001b[0mimages\u001b[0m\u001b[0;34m)\u001b[0m\u001b[0;34m\u001b[0m\u001b[0;34m\u001b[0m\u001b[0m\n\u001b[0m\u001b[1;32m      2\u001b[0m \u001b[0mprint\u001b[0m\u001b[0;34m(\u001b[0m\u001b[0;34m\"Encoding Completes\"\u001b[0m\u001b[0;34m)\u001b[0m\u001b[0;34m\u001b[0m\u001b[0;34m\u001b[0m\u001b[0m\n",
            "\u001b[0;32m<ipython-input-29-57f96e5563d5>\u001b[0m in \u001b[0;36mfindEncodes\u001b[0;34m(images)\u001b[0m\n\u001b[1;32m      2\u001b[0m   \u001b[0mencodelist\u001b[0m \u001b[0;34m=\u001b[0m \u001b[0;34m[\u001b[0m\u001b[0;34m]\u001b[0m\u001b[0;34m\u001b[0m\u001b[0;34m\u001b[0m\u001b[0m\n\u001b[1;32m      3\u001b[0m   \u001b[0;32mfor\u001b[0m \u001b[0mimg\u001b[0m \u001b[0;32min\u001b[0m \u001b[0mimages\u001b[0m\u001b[0;34m:\u001b[0m\u001b[0;34m\u001b[0m\u001b[0;34m\u001b[0m\u001b[0m\n\u001b[0;32m----> 4\u001b[0;31m     \u001b[0mimg\u001b[0m \u001b[0;34m=\u001b[0m \u001b[0mcv2\u001b[0m\u001b[0;34m.\u001b[0m\u001b[0mcvtColor\u001b[0m\u001b[0;34m(\u001b[0m\u001b[0mimg\u001b[0m\u001b[0;34m,\u001b[0m\u001b[0mcv2\u001b[0m\u001b[0;34m.\u001b[0m\u001b[0mCOLOR_BGR2RGB\u001b[0m\u001b[0;34m)\u001b[0m\u001b[0;34m\u001b[0m\u001b[0;34m\u001b[0m\u001b[0m\n\u001b[0m\u001b[1;32m      5\u001b[0m     \u001b[0mimg\u001b[0m \u001b[0;34m=\u001b[0m \u001b[0mcv2\u001b[0m\u001b[0;34m.\u001b[0m\u001b[0mimread\u001b[0m\u001b[0;34m(\u001b[0m\u001b[0mpath\u001b[0m\u001b[0;34m)\u001b[0m\u001b[0;34m\u001b[0m\u001b[0;34m\u001b[0m\u001b[0m\n\u001b[1;32m      6\u001b[0m     \u001b[0mencode\u001b[0m \u001b[0;34m=\u001b[0m \u001b[0mface_recognition\u001b[0m\u001b[0;34m.\u001b[0m\u001b[0mface_encoding\u001b[0m\u001b[0;34m(\u001b[0m\u001b[0mimg\u001b[0m\u001b[0;34m)\u001b[0m\u001b[0;34m[\u001b[0m\u001b[0;36m0\u001b[0m\u001b[0;34m]\u001b[0m\u001b[0;34m\u001b[0m\u001b[0;34m\u001b[0m\u001b[0m\n",
            "\u001b[0;31merror\u001b[0m: OpenCV(4.1.2) /io/opencv/modules/imgproc/src/color.cpp:182: error: (-215:Assertion failed) !_src.empty() in function 'cvtColor'\n"
          ]
        }
      ]
    },
    {
      "cell_type": "code",
      "metadata": {
        "colab": {
          "base_uri": "https://localhost:8080/",
          "height": 232
        },
        "id": "qPZaKt4bOpul",
        "outputId": "f7d79deb-a4ff-48c1-bb51-56a559b03fb2"
      },
      "source": [
        "Cap = cv2.VideoCapture(0)\n",
        "\n",
        "while True:\n",
        "  success,img = cap.read()\n",
        "  imgS = cv2.resize(img,(0,0),None,0.25,0.25)\n",
        "  imgS = cv2.cvtColor(imgS,cv2.COLOR_BGR2RGB)\n",
        "\n",
        "  faceCurFrame = face_recognition.face_locations(imgS)\n",
        "  encode = face_recognition.face_encoding(imgS,faceCurFrame)\n",
        "\n",
        "  for encodeCI, faceL in zip(encode,faceCurFrame):\n",
        "    matches = face_recognition.compare_faces(encodeListKnown,encodeCI)\n",
        "    faceDist = face_recognition.face_distance(encodeListKnown,encodeCI)\n",
        "    print(faceDist)\n",
        "    matchIndex = np.argmin(faceDist)\n",
        "\n",
        "    if matches[matchIndex]:\n",
        "      name = myList[matchIndex].upper()\n",
        "      print(name)\n",
        "      y1,x2,y2,x1 = faceL\n",
        "       y1,x2,y2,x1 = y1*4,x2*4,y2*4,x1*4\n",
        "      cv2.rectangle(img,(x1,y1),(x2,y2),(0,255,0),2)\n",
        "      cv2.rectangle(img(x1,y2-35),(x2,y2),(0,255,0)cv2.FILLED)\n",
        "      cv2.putText(img,name,(x1+6,y2-6),cv2.FONT_HERSHEY_COMPLEX,1,(255,255.255),2)\n",
        "\n",
        "  cv2.imshow('Webcam',img)    \n",
        "  cv2.wait(1)"
      ],
      "execution_count": 2,
      "outputs": [
        {
          "output_type": "error",
          "ename": "NameError",
          "evalue": "ignored",
          "traceback": [
            "\u001b[0;31m---------------------------------------------------------------------------\u001b[0m",
            "\u001b[0;31mNameError\u001b[0m                                 Traceback (most recent call last)",
            "\u001b[0;32m<ipython-input-2-f8531ef2af64>\u001b[0m in \u001b[0;36m<module>\u001b[0;34m()\u001b[0m\n\u001b[0;32m----> 1\u001b[0;31m \u001b[0mCap\u001b[0m \u001b[0;34m=\u001b[0m \u001b[0mcv2\u001b[0m\u001b[0;34m.\u001b[0m\u001b[0mVideoCapture\u001b[0m\u001b[0;34m(\u001b[0m\u001b[0;36m0\u001b[0m\u001b[0;34m)\u001b[0m\u001b[0;34m\u001b[0m\u001b[0;34m\u001b[0m\u001b[0m\n\u001b[0m\u001b[1;32m      2\u001b[0m \u001b[0;34m\u001b[0m\u001b[0m\n\u001b[1;32m      3\u001b[0m \u001b[0;32mwhile\u001b[0m \u001b[0;32mTrue\u001b[0m\u001b[0;34m:\u001b[0m\u001b[0;34m\u001b[0m\u001b[0;34m\u001b[0m\u001b[0m\n\u001b[1;32m      4\u001b[0m   \u001b[0msuccess\u001b[0m\u001b[0;34m,\u001b[0m\u001b[0mimg\u001b[0m \u001b[0;34m=\u001b[0m \u001b[0mcap\u001b[0m\u001b[0;34m.\u001b[0m\u001b[0mread\u001b[0m\u001b[0;34m(\u001b[0m\u001b[0;34m)\u001b[0m\u001b[0;34m\u001b[0m\u001b[0;34m\u001b[0m\u001b[0m\n\u001b[1;32m      5\u001b[0m   \u001b[0mimgS\u001b[0m \u001b[0;34m=\u001b[0m \u001b[0mcv2\u001b[0m\u001b[0;34m.\u001b[0m\u001b[0mresize\u001b[0m\u001b[0;34m(\u001b[0m\u001b[0mimg\u001b[0m\u001b[0;34m,\u001b[0m\u001b[0;34m(\u001b[0m\u001b[0;36m0\u001b[0m\u001b[0;34m,\u001b[0m\u001b[0;36m0\u001b[0m\u001b[0;34m)\u001b[0m\u001b[0;34m,\u001b[0m\u001b[0;32mNone\u001b[0m\u001b[0;34m,\u001b[0m\u001b[0;36m0.25\u001b[0m\u001b[0;34m,\u001b[0m\u001b[0;36m0.25\u001b[0m\u001b[0;34m)\u001b[0m\u001b[0;34m\u001b[0m\u001b[0;34m\u001b[0m\u001b[0m\n",
            "\u001b[0;31mNameError\u001b[0m: name 'cv2' is not defined"
          ]
        }
      ]
    }
  ]
}